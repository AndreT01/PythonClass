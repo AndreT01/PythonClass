{
 "cells": [
  {
   "cell_type": "markdown",
   "id": "e4940c4e",
   "metadata": {},
   "source": [
    "<h1> Homework #2 </h1>\n",
    "\n",
    "<h3> This set covers functions, while loops and more conditional logic </h3>"
   ]
  },
  {
   "cell_type": "code",
   "execution_count": 14,
   "id": "d2726533",
   "metadata": {},
   "outputs": [],
   "source": [
    "import math\n",
    "from random import random\n",
    "from functions import grade2\n",
    "\n",
    "solutions = { \"hw2_p1a\" : lambda arr : [ i for i in arr if i % 2 == 0 ] }\n",
    "\n",
    "def grade2(key, problem):\n",
    "    \n",
    "    ntrials = 50\n",
    "    randmax = 33\n",
    "    count = 0\n",
    "    \n",
    "    if key == \"hw2_p1a\":\n",
    "        sol = lambda num : [ i for i in arr if i%2 == 0 ]\n",
    "        for _ in range(ntrials):\n",
    "            arr = []\n",
    "            nelem = int(randmax*random())\n",
    "            for _ in range(nelem):\n",
    "                arr.append(int(randmax*random()))\n",
    "            if problem(arr) == sol(arr):\n",
    "                count += 1\n",
    "        print(count,\"/\",ntrials,\"tests passed\")\n",
    "        \n",
    "    if key == \"hw2_p1b\":\n",
    "        sol = lambda arr : [ i for i in range(1,num+1) if num%i==0 ]\n",
    "        for _ in range(ntrials):\n",
    "            num = int(randmax**3*random())\n",
    "            if problem(num) == sol(num):\n",
    "                count += 1\n",
    "        print(count,\"/\",ntrials,\"tests passed\")\n",
    "        \n",
    "    if key == \"hw2_p1c\":\n",
    "        sol = lambda n1,n2,n3 : min(n1,n2,n3)\n",
    "        for _ in range(ntrials):\n",
    "            nums = [ int(randmax**3*random()) for i in range(3)]\n",
    "            if problem(*nums) == sol(*nums):\n",
    "                count += 1\n",
    "        print(count,\"/\",ntrials,\"tests passed\")\n",
    "    \n",
    "    if key == \"hw2_p2a\":\n",
    "        sol = lambda n1,n2,n3 : max(n1,n2,n3) - min(n1,n2,n3)\n",
    "        for _ in range(ntrials):\n",
    "            nums = [ int(randmax**3*random()) for i in range(3)]\n",
    "            if problem(*nums) == sol(*nums):\n",
    "                count += 1\n",
    "        print(count,\"/\",ntrials,\"tests passed\")\n",
    "    \n",
    "    if key == \"hw2_p2b\":\n",
    "        sol = lambda c,arr : sol(c+arr[0]%2,arr[1:]) if len(arr) else c\n",
    "        for _ in range(ntrials):\n",
    "            nelem = int(12*random())\n",
    "            nums  = [ int(randmax**3*random()) for i in range(nelem)]\n",
    "            if problem(nums) == sol(0,nums):\n",
    "                count += 1\n",
    "        print(count,\"/\",ntrials,\"tests passed\")\n",
    "    \n",
    "    if key == \"hw2_p2c\":\n",
    "        sol = lambda p,n : p if n%3!=0 else sol(p+1,n/3)\n",
    "        for _ in range(ntrials):\n",
    "            num  =  int(randmax**3*random())\n",
    "            if problem(num) == sol(0,num):\n",
    "                count += 1\n",
    "        print(count,\"/\",ntrials,\"tests passed\")\n",
    "    \n",
    "    \n",
    "    \n",
    "    if count != ntrials:\n",
    "        print(\"Incorrect!\")\n",
    "    else:\n",
    "        print(\"Correct!\")\n",
    "    \n",
    "            \n",
    "                \n",
    "    \n",
    "    \n",
    "    \n",
    "    "
   ]
  },
  {
   "cell_type": "markdown",
   "id": "ca64c33b",
   "metadata": {},
   "source": [
    "<h2> Problem 1 </h2>\n",
    "\n",
    "a) Define a function that takes an array and returns a new array with only the even numbers of the array (in the same order).\n",
    "\n",
    "b) Define a function that takes a number and returns an array with all the numbers that divide the number.\n",
    "\n",
    "c) Define a function that takes three numbers and returns the smallest of the three numbers."
   ]
  },
  {
   "cell_type": "code",
   "execution_count": 2,
   "id": "43c9b098",
   "metadata": {},
   "outputs": [
    {
     "name": "stdout",
     "output_type": "stream",
     "text": [
      "3 / 50 tests passed\n",
      "Incorrect!\n"
     ]
    }
   ],
   "source": [
    "''' Part A '''\n",
    "def my_fun_p1a(arr):\n",
    "    return arr\n",
    "\n",
    "''' Check your answer '''\n",
    "grade2( \"hw2_p1a\", my_fun_p1a )"
   ]
  },
  {
   "cell_type": "code",
   "execution_count": 3,
   "id": "50682cc2",
   "metadata": {},
   "outputs": [
    {
     "name": "stdout",
     "output_type": "stream",
     "text": [
      "2 / 50 tests passed\n",
      "Incorrect!\n"
     ]
    }
   ],
   "source": [
    "''' Part B '''\n",
    "def my_fun_p1b(num):\n",
    "    return [1,num]\n",
    "\n",
    "''' Check your answer '''\n",
    "grade2( \"hw2_p1b\", my_fun_p1b)"
   ]
  },
  {
   "cell_type": "code",
   "execution_count": 4,
   "id": "58a501aa",
   "metadata": {},
   "outputs": [
    {
     "name": "stdout",
     "output_type": "stream",
     "text": [
      "22 / 50 tests passed\n",
      "Incorrect!\n"
     ]
    }
   ],
   "source": [
    "''' Part C '''\n",
    "def my_fun_p1c(num1,num2,num3):\n",
    "    return num1\n",
    "\n",
    "''' Check your answer '''\n",
    "grade2( \"hw2_p1c\", my_fun_p1c )"
   ]
  },
  {
   "cell_type": "markdown",
   "id": "1536f803",
   "metadata": {},
   "source": [
    "<h2> Problem 2</h2>\n",
    "\n",
    "Correct the logic, with only 1 or two changes you should be able to to make the following functions behave as desired\n"
   ]
  },
  {
   "cell_type": "markdown",
   "id": "82d2d90a",
   "metadata": {},
   "source": [
    "a) This function is supossed to take two numbers, and return the difference between the largest and the smallest.\n",
    "\n",
    "b) This function is supossed to take an array and return the number of odd numbers in the array.\n",
    "\n",
    "c) This function is supossed to take a number and find the largest power of three that divides said number."
   ]
  },
  {
   "cell_type": "code",
   "execution_count": 5,
   "id": "3f8cc0e8",
   "metadata": {},
   "outputs": [
    {
     "name": "stdout",
     "output_type": "stream",
     "text": [
      "30 / 50 tests passed\n",
      "Incorrect!\n"
     ]
    }
   ],
   "source": [
    "''' Part A '''\n",
    "def my_fun_p2a(num1,num2,num3):\n",
    "    if num1 >= num3 and num2 >= num3:\n",
    "        return num1 - num3\n",
    "    \n",
    "    if num1 >= num2 and num2 >= num1:\n",
    "        return num3 - num1\n",
    "    \n",
    "    if num2 >= num1 and num1 >= num3:\n",
    "        return num2 - num3\n",
    "    \n",
    "    if num2 >= num3 and num3 >= num1:\n",
    "        return num2 - num1\n",
    "    \n",
    "    if num1 >= num3 and num3 >= num2:\n",
    "        return num1 - num2 \n",
    "    \n",
    "    if num3 >= num1 and num1 >= num2:\n",
    "        return num3 - num2\n",
    "    \n",
    "''' Check your answer '''\n",
    "grade2( \"hw2_p2a\", my_fun_p2a )"
   ]
  },
  {
   "cell_type": "code",
   "execution_count": 6,
   "id": "b9e7ded4",
   "metadata": {},
   "outputs": [
    {
     "name": "stdout",
     "output_type": "stream",
     "text": [
      "9 / 50 tests passed\n",
      "Incorrect!\n"
     ]
    }
   ],
   "source": [
    "''' Part B '''\n",
    "def my_fun_p2b(arr):\n",
    "    \n",
    "    counter = 1\n",
    "    for num in arr:\n",
    "        if num%2==1:\n",
    "            return counter\n",
    "    \n",
    "''' Check your answer '''\n",
    "grade2( \"hw2_p2b\", my_fun_p2b )"
   ]
  },
  {
   "cell_type": "code",
   "execution_count": 21,
   "id": "4000c98f",
   "metadata": {},
   "outputs": [
    {
     "name": "stdout",
     "output_type": "stream",
     "text": [
      "19 / 50 tests passed\n",
      "Incorrect!\n"
     ]
    }
   ],
   "source": [
    "''' Part C '''\n",
    "def my_fun_p2c(num):\n",
    "    power = 1\n",
    "    last  = 0\n",
    "    while True:\n",
    "        if 3**power > num:\n",
    "            break\n",
    "        if num%3**power == 1:\n",
    "            last = power\n",
    "        power+=1\n",
    "    return last\n",
    "    \n",
    "''' Check your answer '''\n",
    "grade2( \"hw2_p2c\", my_fun_p2c )"
   ]
  }
 ],
 "metadata": {
  "kernelspec": {
   "display_name": "Python 3 (ipykernel)",
   "language": "python",
   "name": "python3"
  },
  "language_info": {
   "codemirror_mode": {
    "name": "ipython",
    "version": 3
   },
   "file_extension": ".py",
   "mimetype": "text/x-python",
   "name": "python",
   "nbconvert_exporter": "python",
   "pygments_lexer": "ipython3",
   "version": "3.9.12"
  }
 },
 "nbformat": 4,
 "nbformat_minor": 5
}
