{
 "cells": [
  {
   "cell_type": "code",
   "execution_count": 7,
   "id": "1f753e69",
   "metadata": {},
   "outputs": [],
   "source": [
    "import math\n",
    "import timeit"
   ]
  },
  {
   "cell_type": "code",
   "execution_count": 6,
   "id": "1de64366",
   "metadata": {},
   "outputs": [
    {
     "name": "stdout",
     "output_type": "stream",
     "text": [
      "9\n",
      "5\n",
      "4\n",
      "3\n",
      "1\n",
      "0\n"
     ]
    }
   ],
   "source": [
    "num = 571\n",
    "\n",
    "temp = num\n",
    "\n",
    "while temp > (0):\n",
    "    for i in range(10):\n",
    "        if (2**i <= temp and 2**(i+1) > temp ):\n",
    "            print(i)\n",
    "            temp = temp - 2**i"
   ]
  },
  {
   "cell_type": "code",
   "execution_count": null,
   "id": "10607d24",
   "metadata": {},
   "outputs": [],
   "source": [
    "\\\n",
    "        "
   ]
  }
 ],
 "metadata": {
  "kernelspec": {
   "display_name": "Python 3 (ipykernel)",
   "language": "python",
   "name": "python3"
  },
  "language_info": {
   "codemirror_mode": {
    "name": "ipython",
    "version": 3
   },
   "file_extension": ".py",
   "mimetype": "text/x-python",
   "name": "python",
   "nbconvert_exporter": "python",
   "pygments_lexer": "ipython3",
   "version": "3.9.13"
  }
 },
 "nbformat": 4,
 "nbformat_minor": 5
}
