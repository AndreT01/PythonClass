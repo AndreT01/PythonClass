{
 "cells": [
  {
   "cell_type": "markdown",
   "id": "3ed634d9",
   "metadata": {},
   "source": [
    "<h1>Homework Set #1</h1>\n",
    "\n",
    "<h3>This set covers arrays, loops and conditional logic in python.</h3>"
   ]
  },
  {
   "cell_type": "code",
   "execution_count": 2,
   "id": "9ee6624b",
   "metadata": {},
   "outputs": [],
   "source": [
    "import math\n",
    "from functions import grade"
   ]
  },
  {
   "cell_type": "markdown",
   "id": "d789ebea",
   "metadata": {},
   "source": [
    "<h2> Problem 1 </h2>\n",
    "\n",
    "a) Write an array that has all odd numbers smaller than 135.\n",
    "\n",
    "b) Write an array that has all even numbers between 3 and 176."
   ]
  },
  {
   "cell_type": "code",
   "execution_count": 32,
   "id": "cf136b38",
   "metadata": {},
   "outputs": [
    {
     "name": "stdout",
     "output_type": "stream",
     "text": [
      "Correct!\n"
     ]
    }
   ],
   "source": [
    "# Part a\n",
    "\n",
    "'''solution 1'''\n",
    "array_p1a = [i*2+1 for i in range (67)]\n",
    "\n",
    "'''s2'''\n",
    "array_p1a = [i for i in range (13)]\n",
    "for i in range(len(array_p1a)):\n",
    "    index = len(array_p1a)-i-1\n",
    "    #print(index, array_p1a)\n",
    "    if array_p1a[index]%2==0:\n",
    "        del array_p1a[index]\n",
    "        i+=1\n",
    "    if index<0:\n",
    "        break\n",
    "'''s3'''\n",
    "array_p1a=[]\n",
    "for i in range(135):\n",
    "    if i%2==1:\n",
    "        array_p1a.append(i)\n",
    "\n",
    "# Check your answer\n",
    "grade( \"p1a\", array_p1a )"
   ]
  },
  {
   "cell_type": "code",
   "execution_count": 43,
   "id": "bef3bd43",
   "metadata": {},
   "outputs": [
    {
     "name": "stdout",
     "output_type": "stream",
     "text": [
      "[4, 6, 8, 10, 12, 14, 16, 18, 20, 22, 24, 26, 28, 30, 32, 34, 36, 38, 40, 42, 44, 46, 48, 50, 52, 54, 56, 58, 60, 62, 64, 66, 68, 70, 72, 74, 76, 78, 80, 82, 84, 86, 88, 90, 92, 94, 96, 98, 100, 102, 104, 106, 108, 110, 112, 114, 116, 118, 120, 122, 124, 126, 128, 130, 132, 134, 136, 138, 140, 142, 144, 146, 148, 150, 152, 154, 156, 158, 160, 162, 164, 166, 168, 170, 172, 174, 176]\n",
      "Correct!\n"
     ]
    }
   ],
   "source": [
    "# Part b\n",
    "\n",
    "array_p1b = [i*2+4 for i in range(87)]\n",
    "print(array_p1b)\n",
    "# Check your answer|\n",
    "grade( \"p1b\", array_p1b )"
   ]
  },
  {
   "cell_type": "markdown",
   "id": "c5bc1951",
   "metadata": {},
   "source": [
    "<h2> Problem 2 </h2>\n",
    "\n",
    "a) Use a loop to display all numbers in an array whose square leaves residue 1 mod 3.\n",
    "\n",
    "b) Use a loop to display every munber between 100 and 300 that leaves residue 17 mod 33.\n",
    "\n",
    "c) Use a loop to determine if a number is prime. <br>\n",
    "Hint: A prime is only divisible by itself and 1, if $m$ is divisible by $n$ this means that $m$ leaves residue $0$ mod $n$"
   ]
  },
  {
   "cell_type": "code",
   "execution_count": 45,
   "id": "531f07fb",
   "metadata": {},
   "outputs": [
    {
     "name": "stdout",
     "output_type": "stream",
     "text": [
      "1\n",
      "2\n",
      "4\n",
      "5\n",
      "7\n",
      "8\n",
      "10\n",
      "11\n",
      "13\n",
      "14\n",
      "16\n",
      "17\n",
      "19\n",
      "20\n",
      "22\n",
      "23\n",
      "25\n",
      "26\n",
      "28\n",
      "29\n",
      "31\n",
      "32\n",
      "34\n",
      "35\n",
      "37\n",
      "38\n",
      "40\n",
      "41\n",
      "43\n",
      "44\n",
      "46\n",
      "47\n",
      "49\n",
      "50\n",
      "52\n",
      "53\n",
      "55\n",
      "56\n",
      "58\n",
      "59\n",
      "61\n",
      "62\n",
      "64\n",
      "65\n",
      "67\n",
      "68\n",
      "70\n",
      "71\n",
      "73\n",
      "74\n",
      "76\n",
      "77\n",
      "79\n",
      "80\n",
      "82\n",
      "83\n",
      "85\n",
      "86\n",
      "88\n",
      "89\n",
      "91\n",
      "92\n",
      "94\n",
      "95\n",
      "97\n",
      "98\n",
      "100\n",
      "101\n",
      "103\n",
      "104\n",
      "106\n",
      "107\n",
      "109\n",
      "110\n",
      "112\n",
      "113\n",
      "115\n",
      "116\n",
      "118\n",
      "119\n",
      "121\n",
      "122\n",
      "124\n",
      "125\n",
      "127\n",
      "128\n",
      "130\n",
      "131\n",
      "133\n",
      "134\n",
      "136\n",
      "137\n",
      "139\n",
      "140\n",
      "142\n",
      "143\n",
      "145\n",
      "146\n",
      "148\n",
      "149\n",
      "151\n",
      "152\n",
      "154\n",
      "155\n",
      "157\n",
      "158\n",
      "160\n",
      "161\n",
      "163\n",
      "164\n",
      "166\n",
      "167\n",
      "169\n",
      "170\n",
      "172\n",
      "173\n",
      "175\n",
      "176\n",
      "178\n",
      "179\n",
      "181\n",
      "182\n",
      "184\n",
      "185\n",
      "187\n",
      "188\n",
      "190\n",
      "191\n",
      "193\n",
      "194\n",
      "196\n",
      "197\n",
      "199\n",
      "200\n",
      "202\n",
      "203\n",
      "205\n",
      "206\n",
      "208\n",
      "209\n",
      "211\n",
      "212\n",
      "214\n",
      "215\n",
      "217\n",
      "218\n",
      "220\n",
      "221\n",
      "223\n",
      "224\n",
      "226\n",
      "227\n",
      "229\n",
      "230\n",
      "232\n",
      "233\n",
      "235\n",
      "236\n",
      "238\n",
      "239\n",
      "241\n",
      "242\n",
      "244\n",
      "245\n",
      "247\n",
      "248\n",
      "250\n",
      "251\n",
      "253\n",
      "254\n",
      "256\n",
      "257\n",
      "259\n",
      "260\n",
      "262\n",
      "263\n",
      "265\n",
      "266\n",
      "268\n",
      "269\n",
      "271\n",
      "272\n",
      "274\n",
      "275\n"
     ]
    }
   ],
   "source": [
    "# Part a\n",
    "\n",
    "for i in range(277):\n",
    "    if i**2%3 == 1:\n",
    "        print(i)\n",
    "\n"
   ]
  },
  {
   "cell_type": "code",
   "execution_count": 48,
   "id": "2f479afb",
   "metadata": {},
   "outputs": [
    {
     "name": "stdout",
     "output_type": "stream",
     "text": [
      "116\n",
      "149\n",
      "182\n",
      "215\n",
      "248\n",
      "281\n"
     ]
    }
   ],
   "source": [
    "# Part b\n",
    " # array1= [i for i in range(100,300)]\n",
    "for i in range(100,300):\n",
    "    if i%33 == 17:\n",
    "        print(i)\n",
    "\n"
   ]
  },
  {
   "cell_type": "code",
   "execution_count": 54,
   "id": "b3b99048",
   "metadata": {},
   "outputs": [
    {
     "name": "stdout",
     "output_type": "stream",
     "text": [
      "1\n",
      "3\n",
      "219529\n"
     ]
    }
   ],
   "source": [
    "# Part c\n",
    "\n",
    "num = 658587\n",
    "\n",
    "for i in range(1, num):\n",
    "    if num%i == 0:\n",
    "        print(i)\n",
    "\n"
   ]
  },
  {
   "cell_type": "markdown",
   "id": "4e994b06",
   "metadata": {},
   "source": [
    "<h2> Problem 3 </h2>\n",
    "\n",
    "a) Write a function that takes two numbers and returns the difference of their squares.\n",
    "\n",
    "b) Write a function that takes a number $n$ and returns a list with the numbers up to $n$.\n",
    "\n",
    "c) Write a function that takes a number $n$ and returns True if the number leaves residue $4$ mod $17$ "
   ]
  },
  {
   "cell_type": "code",
   "execution_count": 61,
   "id": "96053bc9",
   "metadata": {},
   "outputs": [
    {
     "name": "stdout",
     "output_type": "stream",
     "text": [
      "50 / 50 tests passed\n",
      "Correct!\n"
     ]
    }
   ],
   "source": [
    "# Part a\n",
    "\n",
    "def your_function_a(n1, n2):\n",
    "    \n",
    "    return n1**2-n2**2\n",
    "\n",
    "grade( \"p3a\", your_function_a )"
   ]
  },
  {
   "cell_type": "code",
   "execution_count": 64,
   "id": "fdcf8206",
   "metadata": {},
   "outputs": [
    {
     "name": "stdout",
     "output_type": "stream",
     "text": [
      "50 / 50 tests passed\n",
      "Correct!\n"
     ]
    }
   ],
   "source": [
    "# Part b\n",
    "\n",
    "def your_function_b(n):\n",
    "    \n",
    "    return [i for i in range(n)]\n",
    "\n",
    "grade(\"p3b\" , your_function_b)"
   ]
  },
  {
   "cell_type": "code",
   "execution_count": 66,
   "id": "5d23ce7a",
   "metadata": {},
   "outputs": [
    {
     "name": "stdout",
     "output_type": "stream",
     "text": [
      "50 / 50 tests passed\n",
      "Correct!\n"
     ]
    }
   ],
   "source": [
    "# Part c\n",
    "\n",
    "def your_function_c(n):\n",
    "    if n%17 ==4:\n",
    "        return True\n",
    "    else:\n",
    "        return False\n",
    "grade(\"p3c\", your_function_c)"
   ]
  },
  {
   "cell_type": "code",
   "execution_count": null,
   "id": "f847c033",
   "metadata": {},
   "outputs": [],
   "source": []
  }
 ],
 "metadata": {
  "kernelspec": {
   "display_name": "Python 3 (ipykernel)",
   "language": "python",
   "name": "python3"
  },
  "language_info": {
   "codemirror_mode": {
    "name": "ipython",
    "version": 3
   },
   "file_extension": ".py",
   "mimetype": "text/x-python",
   "name": "python",
   "nbconvert_exporter": "python",
   "pygments_lexer": "ipython3",
   "version": "3.9.13"
  }
 },
 "nbformat": 4,
 "nbformat_minor": 5
}
